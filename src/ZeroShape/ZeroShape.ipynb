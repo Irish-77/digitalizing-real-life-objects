{
  "cells": [
    {
      "cell_type": "markdown",
      "metadata": {
        "id": "hNOA4CD7FIXh"
      },
      "source": [
        "# ZeroShape"
      ]
    },
    {
      "cell_type": "markdown",
      "metadata": {
        "id": "We-hRXjbFYeP"
      },
      "source": [
        "This notebook is designed to be executed on Google Colab."
      ]
    },
    {
      "cell_type": "markdown",
      "metadata": {
        "id": "5SCoDarAFKxA"
      },
      "source": [
        "## Setup & Dependencies"
      ]
    },
    {
      "cell_type": "code",
      "execution_count": 1,
      "metadata": {
        "colab": {
          "base_uri": "https://localhost:8080/"
        },
        "id": "__6V4Uoi1MM6",
        "outputId": "3951435a-0c7a-4782-dd6d-f39dfa3c070e"
      },
      "outputs": [
        {
          "name": "stdout",
          "output_type": "stream",
          "text": [
            "⏬ Downloading https://github.com/conda-forge/miniforge/releases/download/23.11.0-0/Mambaforge-23.11.0-0-Linux-x86_64.sh...\n",
            "📦 Installing...\n",
            "📌 Adjusting configuration...\n",
            "🩹 Patching environment...\n",
            "⏲ Done in 0:00:14\n",
            "🔁 Restarting kernel...\n"
          ]
        }
      ],
      "source": [
        "!pip install -q condacolab\n",
        "import condacolab\n",
        "condacolab.install()"
      ]
    },
    {
      "cell_type": "markdown",
      "metadata": {
        "id": "PtdiAvL7FPly"
      },
      "source": [
        "If the kernel stops after executing the cell above, simply continue running all the cells below without rerunning the first cell."
      ]
    },
    {
      "cell_type": "code",
      "execution_count": 1,
      "metadata": {
        "colab": {
          "base_uri": "https://localhost:8080/"
        },
        "id": "kLarWVQw5DP6",
        "outputId": "4a346bc2-fdd6-49d6-aa5e-80cfb3129548"
      },
      "outputs": [
        {
          "name": "stdout",
          "output_type": "stream",
          "text": [
            "✨🍰✨ Everything looks OK!\n"
          ]
        }
      ],
      "source": [
        "import condacolab\n",
        "condacolab.check()"
      ]
    },
    {
      "cell_type": "code",
      "execution_count": null,
      "metadata": {
        "id": "8sItICNx5HQX"
      },
      "outputs": [],
      "source": [
        "# Custom fork that allows to directly use our segmented dataset without any preprocessing\n",
        "!git clone https://github.com/Irish-77/ZeroShape"
      ]
    },
    {
      "cell_type": "code",
      "execution_count": 3,
      "metadata": {
        "colab": {
          "base_uri": "https://localhost:8080/"
        },
        "id": "wPn4V3l35MOo",
        "outputId": "658e1039-d58a-4b14-ab78-bd7a12e795db"
      },
      "outputs": [
        {
          "name": "stdout",
          "output_type": "stream",
          "text": [
            "/content/ZeroShape\n"
          ]
        }
      ],
      "source": [
        "%cd ZeroShape"
      ]
    },
    {
      "cell_type": "code",
      "execution_count": null,
      "metadata": {
        "id": "cUq24URJ5N_Z"
      },
      "outputs": [],
      "source": [
        "!conda env create --file requirements.yaml"
      ]
    },
    {
      "cell_type": "code",
      "execution_count": null,
      "metadata": {
        "colab": {
          "base_uri": "https://localhost:8080/"
        },
        "id": "wYl57RqV69W1",
        "outputId": "8e453d71-75d1-45e5-c692-501b34b924eb"
      },
      "outputs": [],
      "source": [
        "!conda create -n zeroshape python=3 pytorch::pytorch=1.11 pytorch::torchvision=0.12 cudatoolkit=10.2\n",
        "!conda install -c conda-forge tqdm pyyaml pip matplotlib trimesh tensorboard\n",
        "!pip install pyrender opencv-python pymcubes ninja timm"
      ]
    },
    {
      "cell_type": "markdown",
      "metadata": {
        "id": "LOddWIvyFa3I"
      },
      "source": [
        "## Download weights"
      ]
    },
    {
      "cell_type": "code",
      "execution_count": null,
      "metadata": {
        "id": "TCsVI-0v7seG"
      },
      "outputs": [],
      "source": [
        "%cd weights\n",
        "!wget -O shape.ckpt \"https://www.dropbox.com/scl/fi/hv3w9z59dqytievwviko4/shape.ckpt?rlkey=a2gut89kavrldmnt8b3df92oi&dl=1\"\n",
        "%cd .."
      ]
    },
    {
      "cell_type": "code",
      "execution_count": 7,
      "metadata": {
        "id": "H2_4myVCjO2g"
      },
      "outputs": [],
      "source": [
        "# %cd weights\n",
        "# !wget -O depth.ckpt \"https://www.dropbox.com/scl/fi/1456be9dcwpwarrtgotny/depth.ckpt?rlkey=cmb3e76mw4dskomb0i51e99qt&e=1&dl=0\"\n",
        "# %cd .."
      ]
    },
    {
      "cell_type": "markdown",
      "metadata": {
        "id": "l4YHGzDOFcoh"
      },
      "source": [
        "## Download images"
      ]
    },
    {
      "cell_type": "code",
      "execution_count": null,
      "metadata": {
        "id": "nU-QwJcJ8UXy"
      },
      "outputs": [],
      "source": [
        "!git clone https://github.com/Irish-77/digitalizing-real-life-objects.git"
      ]
    },
    {
      "cell_type": "markdown",
      "metadata": {
        "id": "MORptCBuFhHl"
      },
      "source": [
        "## Run Inference"
      ]
    },
    {
      "cell_type": "code",
      "execution_count": 14,
      "metadata": {
        "colab": {
          "base_uri": "https://localhost:8080/"
        },
        "id": "7w2_4I3r9s90",
        "outputId": "3ae2e00c-55d1-4517-e81e-55c403aa9b71"
      },
      "outputs": [
        {
          "name": "stdout",
          "output_type": "stream",
          "text": [
            "/usr/local/lib/python3.10/site-packages/torch/utils/cpp_extension.py:1964: UserWarning: TORCH_CUDA_ARCH_LIST is not set, all archs for visible cards are included for compilation. \n",
            "If this is not desired, please set os.environ['TORCH_CUDA_ARCH_LIST'].\n",
            "  warnings.warn(\n",
            "setting configurations...\n",
            "loading options/shape.yaml...\n",
            "* H: 224\n",
            "* W: 224\n",
            "* arch:\n",
            "   * depth:\n",
            "      * dsp: 2\n",
            "      * encoder: resnet\n",
            "      * n_blocks: 12\n",
            "      * pretrained: model/depth/pretrained_weights/omnidata_dpt_depth_v2.ckpt\n",
            "   * impl:\n",
            "      * att_blocks: 2\n",
            "      * mlp_layers: 8\n",
            "      * mlp_ratio: 4.0\n",
            "      * n_channels: 256\n",
            "      * posenc_3D: 0\n",
            "      * posenc_perlayer: False\n",
            "      * skip_in: [2, 4, 6]\n",
            "   * latent_dim: 256\n",
            "   * num_heads: 8\n",
            "   * rgb:\n",
            "      * encoder: None\n",
            "      * n_blocks: 12\n",
            "   * win_size: 16\n",
            "* batch_size: 28\n",
            "* ckpt: weights/shape.ckpt\n",
            "* data:\n",
            "   * bgcolor: 1\n",
            "   * dataset_test: synthetic\n",
            "   * dataset_train: synthetic\n",
            "   * max_img_cat: None\n",
            "   * num_classes_test: 15\n",
            "   * num_workers: 6\n",
            "   * ocrtoc:\n",
            "      * cat: None\n",
            "      * erode_mask: None\n",
            "   * pix3d:\n",
            "      * cat: None\n",
            "   * synthetic:\n",
            "      * percentage: 1\n",
            "      * subset: objaverse_LVIS,ShapeNet55\n",
            "   * train_sub: None\n",
            "   * val_sub: None\n",
            "* datadir: digitalizing-real-life-objects/data/segmented\n",
            "* debug: False\n",
            "* device: cuda:0\n",
            "* eval:\n",
            "   * batch_size: 2\n",
            "   * brute_force: False\n",
            "   * f_thresholds: [0.005, 0.01, 0.02, 0.05, 0.1, 0.2]\n",
            "   * icp: False\n",
            "   * n_vis: 50\n",
            "   * num_points: 10000\n",
            "   * range: [-1.5, 1.5]\n",
            "   * vox_res: 128\n",
            "* freq:\n",
            "   * ckpt_latest: 1000\n",
            "   * eval: 1\n",
            "   * print: 200\n",
            "   * print_eval: 100\n",
            "   * save_vis: 1000\n",
            "   * scalar: 1000\n",
            "   * vis: 1000\n",
            "* get_depth: False\n",
            "* get_normal: False\n",
            "* gpu: 0\n",
            "* group: shape\n",
            "* image_size: [224, 224]\n",
            "* load: None\n",
            "* loss_weight:\n",
            "   * depth: None\n",
            "   * intr: None\n",
            "   * shape: 1\n",
            "* max_epoch: 15\n",
            "* name: shape_recon\n",
            "* optim:\n",
            "   * accum: 1\n",
            "   * amp: False\n",
            "   * clip_norm: None\n",
            "   * fix_clip: True\n",
            "   * fix_dpt: False\n",
            "   * lr: 3e-05\n",
            "   * lr_ft: 1e-05\n",
            "   * sched: False\n",
            "   * weight_decay: 0.05\n",
            "* output_path: output/shape/shape_recon\n",
            "* output_root: output\n",
            "* pretrain:\n",
            "   * depth: weights/depth.ckpt\n",
            "* profile: False\n",
            "* resume: False\n",
            "* seed: 0\n",
            "* task: shape\n",
            "* tb:\n",
            "   * num_images: [4, 8]\n",
            "* training:\n",
            "   * depth_loss:\n",
            "      * depth_inv: True\n",
            "      * grad_reg: 0.1\n",
            "      * mask_shrink: False\n",
            "   * n_sdf_points: 4096\n",
            "   * shape_loss:\n",
            "      * impt_thres: 0.01\n",
            "      * impt_weight: 1\n",
            "* yaml: options/shape.yaml\n",
            "/usr/local/lib/python3.10/site-packages/timm/models/_factory.py:126: UserWarning: Mapping deprecated model name vit_base_resnet50_384 to current vit_base_r50_s16_384.orig_in21k_ft_in1k.\n",
            "  model = create_fn(\n",
            "model.safetensors: 100% 396M/396M [00:01<00:00, 220MB/s]\n",
            "/usr/local/lib/python3.10/site-packages/torchvision/models/_utils.py:208: UserWarning: The parameter 'pretrained' is deprecated since 0.13 and may be removed in the future, please use 'weights' instead.\n",
            "  warnings.warn(\n",
            "/usr/local/lib/python3.10/site-packages/torchvision/models/_utils.py:223: UserWarning: Arguments other than a weight enum or `None` for 'weights' are deprecated since 0.13 and may be removed in the future. The current behavior is equivalent to passing `weights=ResNet50_Weights.IMAGENET1K_V1`. You can also use `weights=ResNet50_Weights.DEFAULT` to get the most up-to-date weights.\n",
            "  warnings.warn(msg)\n",
            "Downloading: \"https://download.pytorch.org/models/resnet50-0676ba61.pth\" to /root/.cache/torch/hub/checkpoints/resnet50-0676ba61.pth\n",
            "100% 97.8M/97.8M [00:00<00:00, 164MB/s]\n",
            "/content/ZeroShape/demo.py:196: FutureWarning: You are using `torch.load` with `weights_only=False` (the current default value), which uses the default pickle module implicitly. It is possible to construct malicious pickle data which will execute arbitrary code during unpickling (See https://github.com/pytorch/pytorch/blob/main/SECURITY.md#untrusted-models for more details). In a future release, the default value for `weights_only` will be flipped to `True`. This limits the functions that could be executed during unpickling. Arbitrary objects will no longer be allowed to be loaded via this mode unless they are explicitly allowlisted by the user via `torch.serialization.add_safe_globals`. We recommend you start setting `weights_only=True` for any use case where you don't have full control of the loaded file. Please open an issue on GitHub for any issues related to this experimental feature.\n",
            "  checkpoint = torch.load(opt.ckpt, map_location=torch.device(opt.device))\n",
            "resuming from epoch 13 (iteration 508833, best_val 0.0320)\n",
            "==> checkpoint loaded\n",
            "==> sample data loaded from folder: digitalizing-real-life-objects/data/segmented\n",
            "100% 54/54 [18:43<00:00, 20.81s/it]\n",
            "==> results saved at folder: digitalizing-real-life-objects/data/segmented/preds\n"
          ]
        }
      ],
      "source": [
        "!python demo.py --yaml=options/shape.yaml --task=shape --datadir=digitalizing-real-life-objects/data/segmented --eval.vox_res=128 --ckpt=weights/shape.ckpt"
      ]
    },
    {
      "cell_type": "markdown",
      "metadata": {
        "id": "LLduYeyiFjMj"
      },
      "source": [
        "## Prepare results to be downloaded"
      ]
    },
    {
      "cell_type": "code",
      "execution_count": null,
      "metadata": {
        "id": "5n_P_qEQDWdi"
      },
      "outputs": [],
      "source": [
        "!zip -r content/ZeroShape.zip /content/ZeroShape/digitalizing-real-life-objects/data/segmented/preds"
      ]
    },
    {
      "cell_type": "code",
      "execution_count": null,
      "metadata": {
        "id": "USugVFDojXA2"
      },
      "outputs": [],
      "source": [
        "# !python demo.py --yaml=options/depth.yaml --task=depth --datadir=segmented --eval.vox_res=128 --ckpt=weights/depth.ckpt"
      ]
    }
  ],
  "metadata": {
    "accelerator": "GPU",
    "colab": {
      "gpuType": "T4",
      "provenance": []
    },
    "kernelspec": {
      "display_name": "Python 3",
      "name": "python3"
    },
    "language_info": {
      "name": "python"
    }
  },
  "nbformat": 4,
  "nbformat_minor": 0
}
